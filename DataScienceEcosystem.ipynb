{
 "cells": [
  {
   "cell_type": "markdown",
   "id": "b285ec79-74f0-49b3-9d42-b83b978ccfee",
   "metadata": {},
   "source": [
    "# Data Science Tools and Ecosystem"
   ]
  },
  {
   "cell_type": "markdown",
   "id": "4ab3721d-abfb-4107-ae46-9721c0cb14ff",
   "metadata": {},
   "source": [
    "In this notebook, Data Science Tools and Ecosystems ara summarized. "
   ]
  },
  {
   "cell_type": "markdown",
   "id": "c07a0d03-1727-42c1-b10e-a8ba902c3a96",
   "metadata": {},
   "source": [
    "**Objectives::**\n",
    "\n",
    "- List popular languages for Data Science\n",
    "- Indentify commonly used libraries in Data Science\n",
    "- Understand tools uesd in Data Science\n",
    "- Perform basic arithmetic operations in Python\n",
    "- Convert time units using Python"
   ]
  },
  {
   "cell_type": "markdown",
   "id": "a4491332-0656-4ff4-bd97-e1530efeed02",
   "metadata": {},
   "source": [
    "Some of the popular languages that Data Scientist use are:\n",
    "\n",
    "1. Python\n",
    "2. R\n",
    "3. SQL\n",
    "4. Java\n",
    "5. Scala"
   ]
  },
  {
   "cell_type": "markdown",
   "id": "6fbf3c5f-1e09-4845-9f0f-bb96f2685c4a",
   "metadata": {},
   "source": [
    "Some of the commonly used libraries used by Data Scientists include:\n",
    "\n",
    "1. Pandas\n",
    "2. NumPy\n",
    "3. Scikit-Learn\n",
    "4. TensorFlow\n",
    "5. Matplotlib"
   ]
  },
  {
   "cell_type": "markdown",
   "id": "315e89a1-47b8-4b6f-98f2-a882380f5a17",
   "metadata": {},
   "source": [
    "| Data Science Tools |\n",
    "|--------------------|\n",
    "| Jupyter Notebook |\n",
    "| RStudio |\n",
    "| VS Code |"
   ]
  },
  {
   "cell_type": "markdown",
   "id": "b5d98b61-d30f-4cd4-ae9d-7c975227a562",
   "metadata": {},
   "source": [
    "### Below are a few examples of evaluating arithmetic expressions in Python"
   ]
  },
  {
   "cell_type": "code",
   "execution_count": 14,
   "id": "e3fa21a9-369f-4924-8581-06f3d9d1d0fc",
   "metadata": {},
   "outputs": [
    {
     "data": {
      "text/plain": [
       "17"
      ]
     },
     "execution_count": 14,
     "metadata": {},
     "output_type": "execute_result"
    }
   ],
   "source": [
    "(3*4) + 5"
   ]
  },
  {
   "cell_type": "code",
   "execution_count": 16,
   "id": "b200344b-7651-4881-b970-26d8e4754d8e",
   "metadata": {},
   "outputs": [
    {
     "data": {
      "text/plain": [
       "3.3333333333333335"
      ]
     },
     "execution_count": 16,
     "metadata": {},
     "output_type": "execute_result"
    }
   ],
   "source": [
    "200/60"
   ]
  },
  {
   "cell_type": "markdown",
   "id": "78e5e08b-97ec-4836-979a-b59d766fc53f",
   "metadata": {},
   "source": [
    "## Author \n",
    "\n",
    "Burak İlhan Erok\n"
   ]
  }
 ],
 "metadata": {
  "kernelspec": {
   "display_name": "Python [conda env:base] *",
   "language": "python",
   "name": "conda-base-py"
  },
  "language_info": {
   "codemirror_mode": {
    "name": "ipython",
    "version": 3
   },
   "file_extension": ".py",
   "mimetype": "text/x-python",
   "name": "python",
   "nbconvert_exporter": "python",
   "pygments_lexer": "ipython3",
   "version": "3.12.7"
  }
 },
 "nbformat": 4,
 "nbformat_minor": 5
}
